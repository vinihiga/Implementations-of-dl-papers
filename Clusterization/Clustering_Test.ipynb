{
 "cells": [
  {
   "cell_type": "code",
   "execution_count": 1,
   "id": "af32ab33",
   "metadata": {},
   "outputs": [],
   "source": [
    "import matplotlib.pyplot as plt\n",
    "import numpy as np\n",
    "import pandas as pd\n",
    "%matplotlib inline"
   ]
  },
  {
   "cell_type": "code",
   "execution_count": 12,
   "id": "6ef648b3",
   "metadata": {},
   "outputs": [
    {
     "data": {
      "text/plain": [
       "array([[ 0.32132763, -0.06259549],\n",
       "       [ 0.96394775,  0.35042665],\n",
       "       [-1.10016404, -1.02277729],\n",
       "       [ 0.1710292 ,  0.14406259],\n",
       "       [-0.686211  ,  0.2184181 ],\n",
       "       [-0.86055965,  0.71337326],\n",
       "       [-0.82989445, -1.58283869],\n",
       "       [ 0.01531178, -0.60695413],\n",
       "       [ 0.10319446, -0.25028833],\n",
       "       [ 0.62252278,  0.39855045],\n",
       "       [-1.04843305,  0.11557773],\n",
       "       [-0.36217369, -1.65830895],\n",
       "       [ 0.3783158 ,  1.72441733],\n",
       "       [ 0.27999046, -0.77178868],\n",
       "       [-0.3673278 , -1.20045918],\n",
       "       [ 0.77742512,  0.89977637],\n",
       "       [ 0.63927409,  0.73734564],\n",
       "       [ 1.56232544,  0.5007077 ],\n",
       "       [-0.48913068,  1.11397694],\n",
       "       [-1.79080634,  1.03577852],\n",
       "       [-0.99179006, -0.94082293],\n",
       "       [ 0.19726842, -0.28176264],\n",
       "       [-0.31781131, -0.32579902],\n",
       "       [ 2.83232049,  0.40986892],\n",
       "       [ 0.68572528, -1.54997404],\n",
       "       [ 0.99906468, -2.75390047],\n",
       "       [ 1.23938288, -0.37619243],\n",
       "       [ 0.38078179, -0.24869308],\n",
       "       [ 1.15550504,  0.61979874],\n",
       "       [ 1.13886866, -0.91918784],\n",
       "       [ 0.55857267,  0.8675506 ],\n",
       "       [-1.73536219, -0.15972774]])"
      ]
     },
     "execution_count": 12,
     "metadata": {},
     "output_type": "execute_result"
    }
   ],
   "source": [
    "dataset = np.random.randn(32, 2)\n",
    "dataset"
   ]
  },
  {
   "cell_type": "code",
   "execution_count": 13,
   "id": "33982362",
   "metadata": {},
   "outputs": [],
   "source": [
    "dataset_X = [row[0] for row in dataset]\n",
    "dataset_y = [row[1] for row in dataset]"
   ]
  },
  {
   "cell_type": "code",
   "execution_count": 15,
   "id": "dabd7614",
   "metadata": {},
   "outputs": [
    {
     "data": {
      "image/png": "[encoded data removed]",
      "text/plain": [
       "<Figure size 640x480 with 1 Axes>"
      ]
     },
     "metadata": {},
     "output_type": "display_data"
    }
   ],
   "source": [
    "plt.scatter(dataset_X, dataset_y)\n",
    "\n",
    "plt.show()"
   ]
  },
  {
   "cell_type": "code",
   "execution_count": 20,
   "id": "f9be0fc9",
   "metadata": {},
   "outputs": [],
   "source": [
    "import sklearn as sk\n",
    "from sklearn.neighbors import NearestNeighbors"
   ]
  },
  {
   "cell_type": "code",
   "execution_count": 21,
   "id": "74b55891",
   "metadata": {},
   "outputs": [
    {
     "data": {
      "text/plain": [
       "NearestNeighbors(n_neighbors=10)"
      ]
     },
     "execution_count": 21,
     "metadata": {},
     "output_type": "execute_result"
    }
   ],
   "source": [
    "model = NearestNeighbors(n_neighbors=10)\n",
    "model.fit(dataset)"
   ]
  },
  {
   "cell_type": "code",
   "execution_count": null,
   "id": "89837e71",
   "metadata": {},
   "outputs": [],
   "source": []
  }
 ],
 "metadata": {
  "kernelspec": {
   "display_name": "Python 3 (ipykernel)",
   "language": "python",
   "name": "python3"
  },
  "language_info": {
   "codemirror_mode": {
    "name": "ipython",
    "version": 3
   },
   "file_extension": ".py",
   "mimetype": "text/x-python",
   "name": "python",
   "nbconvert_exporter": "python",
   "pygments_lexer": "ipython3",
   "version": "3.7.8"
  }
 },
 "nbformat": 4,
 "nbformat_minor": 5
}
